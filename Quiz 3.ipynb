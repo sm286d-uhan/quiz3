{
 "cells": [
  {
   "cell_type": "markdown",
   "metadata": {},
   "source": [
    "<h4 class='prehead'>SM286D &middot; Introduction to Applied Mathematics with Python &middot; Spring 2020 &middot; Uhan</h4>\n",
    "\n",
    "<h1 class='lesson_title'>Quiz 3 &mdash; 11 February 2020</h1>"
   ]
  },
  {
   "cell_type": "markdown",
   "metadata": {},
   "source": [
    "## Instructions"
   ]
  },
  {
   "cell_type": "markdown",
   "metadata": {},
   "source": [
    "You have 25 minutes to complete this quiz. You may use your own course materials (e.g. notes, textbook), as well as any materials directly linked from the [class website](https://www.usna.edu/Users/math/uhan/sm286d/). __No collaboration allowed.__\n",
    "\n",
    "There are a total of 4 problems, worth 15 points.\n",
    "\n",
    "Save your work frequently! When you are finished, submit this file using the SM286D Assignment Submission Form linked on the [class website](https://www.usna.edu/Users/math/uhan/sm286d/)."
   ]
  },
  {
   "cell_type": "markdown",
   "metadata": {},
   "source": [
    "---"
   ]
  },
  {
   "cell_type": "markdown",
   "metadata": {},
   "source": [
    "By typing your name in the box below, you pledge on your honor that you have not used any unauthorized materials, and that you have not given or received any unauthorized assistance."
   ]
  },
  {
   "cell_type": "markdown",
   "metadata": {},
   "source": [
    "<span style=\"color:red\"><strong>WRITE YOUR NAME IN THIS BOX. DOUBLE-CLICK TO EDIT.</strong></span>"
   ]
  },
  {
   "cell_type": "markdown",
   "metadata": {},
   "source": [
    "---"
   ]
  },
  {
   "cell_type": "markdown",
   "metadata": {},
   "source": [
    "## Problem 1 (4 points)"
   ]
  },
  {
   "cell_type": "markdown",
   "metadata": {},
   "source": [
    "In the code cell below, you are given a dictionary, `comm_prefs`, that contains last names for midshipmen and their first choice for service assignment.  You are also given another dictionary, `comm_assign` that contains the last names for midshipmen and the community they were actually assigned.  "
   ]
  },
  {
   "cell_type": "code",
   "execution_count": null,
   "metadata": {},
   "outputs": [],
   "source": [
    "# DO NOT MODIFY THE CODE IN THIS CELL\n",
    "comm_prefs = {'foraker': 'NFO', 'jones': 'USMC Ground', 'miller': 'SEAL', 'smith': 'SWO'}\n",
    "comm_assign = {'foraker': 'NFO', 'jones': 'USMC Pilot', 'miller': 'SWO', 'smith': 'SWO'}"
   ]
  },
  {
   "cell_type": "markdown",
   "metadata": {},
   "source": [
    "In the code cell below, use a `for` loop and appropriate `if`-`elif`-`else` statements to produce output like this:\n",
    "\n",
    "```\n",
    "Midshipman Foraker was assigned his/her first choice.\n",
    "Midshipman Jones was not assigned his/her first choice.\n",
    "Midshipman Miller was not assigned his/her first choice.\n",
    "Midshipman Smith was assigned his/her first choice. \n",
    "```\n",
    "\n",
    "Note that the first letter in each last name is capitalized in the output.  Your output should follow this formatting for full credit.  Do __NOT__ change the entries in the dictionary `comm_prefs` or `comm_assign` in order to capitalize the first letter in each last name."
   ]
  },
  {
   "cell_type": "code",
   "execution_count": null,
   "metadata": {},
   "outputs": [],
   "source": []
  },
  {
   "cell_type": "markdown",
   "metadata": {},
   "source": [
    "## Problem 2 (3 points)"
   ]
  },
  {
   "cell_type": "markdown",
   "metadata": {},
   "source": [
    "In the code cell below, use a list comprehension to create a list called `first_ten_positive_cubes` containing the first 10 positive cubes: $1^3, 2^3, \\dots$. Print the list. \n",
    "\n",
    "Your code **MUST** use a __list comprehension__ for full credit.  Your output should look like this:\n",
    "\n",
    "```\n",
    "[1, 8, 27, 64, 125, 216, 343, 512, 729, 1000]\n",
    "```"
   ]
  },
  {
   "cell_type": "code",
   "execution_count": null,
   "metadata": {},
   "outputs": [],
   "source": []
  },
  {
   "cell_type": "markdown",
   "metadata": {},
   "source": [
    "## Problem 3 (4 points)"
   ]
  },
  {
   "cell_type": "markdown",
   "metadata": {},
   "source": [
    "In the code cell below, write a function named `even_or_odd` that determines whether a given numerical input value `number` is an even or odd number. Your function must (1) print a message to the screen, saying whether `number` is even or odd, and (2) return `'even'` or `'odd'`, depending on whether `number` is even or odd."
   ]
  },
  {
   "cell_type": "code",
   "execution_count": null,
   "metadata": {},
   "outputs": [],
   "source": []
  },
  {
   "cell_type": "markdown",
   "metadata": {},
   "source": [
    "For full credit, your function **MUST** work so that the __cell below__ produces the following output:\n",
    "```\n",
    "14 is an even number.\n",
    "The value here, even, should match the type of number in the print statement above.\n",
    "31 is an odd number.\n",
    "The value here, odd, should match the type of number in the print statement above.\n",
    "```"
   ]
  },
  {
   "cell_type": "code",
   "execution_count": null,
   "metadata": {},
   "outputs": [],
   "source": [
    "# DO NOT MODIFY THE CODE IN THIS CELL\n",
    "# Your function MUST work with the code in this cell for full credit.\n",
    "# Use the code in this cell to make sure everything is working like it\n",
    "# should.  I will use it when I grade your quiz.\n",
    "my_even_or_odd = even_or_odd(14)\n",
    "print(f\"The value here, {my_even_or_odd}, should match the type of number in the print statement above.\")\n",
    "my_even_or_odd = even_or_odd(31)\n",
    "print(f\"The value here, {my_even_or_odd}, should match the type of number in the print statement above.\")"
   ]
  },
  {
   "cell_type": "markdown",
   "metadata": {},
   "source": [
    "## Problem 4 (4 points)"
   ]
  },
  {
   "cell_type": "markdown",
   "metadata": {},
   "source": [
    "In the code cell below, a list `list_of_numbers` is defined, and the variables `my_sum` and `my_index` are initialized to a value of zero.\n",
    "\n",
    "Use a while loop and the appropriate stopping criteria to add the numbers in `list_of_numbers` one after another (starting with 0, then 1, then 2, etc.) to the value of `my_sum` until the value of `my_sum` is greater than or equal to 1000.  Print out the value of `my_sum` following the successful termination of the while loop.  In addition, print out the first number in `list_of_numbers` that you didn't need to add to `my_sum` to get a value greater than 1000.  Your output should look like this:\n",
    "\n",
    "```\n",
    "The value of the sum is 1035.\n",
    "The first number we didn't need to use was 46.\n",
    "```"
   ]
  },
  {
   "cell_type": "code",
   "execution_count": null,
   "metadata": {},
   "outputs": [],
   "source": [
    "list_of_numbers = list(range(1000))\n",
    "my_sum = 0\n",
    "my_index = 0\n",
    "\n",
    "# Write your code below\n"
   ]
  },
  {
   "cell_type": "markdown",
   "metadata": {},
   "source": [
    "---"
   ]
  },
  {
   "cell_type": "markdown",
   "metadata": {
    "hide_cell": true
   },
   "source": [
    "## When you're finished"
   ]
  },
  {
   "cell_type": "markdown",
   "metadata": {
    "hide_cell": true
   },
   "source": [
    "* Select **Cell &#8594; Run All**  to run all the cells from top to bottom. Make sure your notebook runs as you expect before submitting it.\n",
    "\n",
    "* Submit this file using the SM286D Assignment Submission Form linked on the [class website](https://www.usna.edu/Users/math/uhan/sm286d/)."
   ]
  }
 ],
 "metadata": {
  "kernelspec": {
   "display_name": "Python 3",
   "language": "python",
   "name": "python3"
  },
  "language_info": {
   "codemirror_mode": {
    "name": "ipython",
    "version": 3
   },
   "file_extension": ".py",
   "mimetype": "text/x-python",
   "name": "python",
   "nbconvert_exporter": "python",
   "pygments_lexer": "ipython3",
   "version": "3.6.4"
  }
 },
 "nbformat": 4,
 "nbformat_minor": 2
}
